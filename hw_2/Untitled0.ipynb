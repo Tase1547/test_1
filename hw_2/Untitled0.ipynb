{
  "nbformat": 4,
  "nbformat_minor": 0,
  "metadata": {
    "colab": {
      "provenance": []
    },
    "kernelspec": {
      "name": "python3",
      "display_name": "Python 3"
    },
    "language_info": {
      "name": "python"
    }
  },
  "cells": [
    {
      "cell_type": "code",
      "execution_count": 28,
      "metadata": {
        "colab": {
          "base_uri": "https://localhost:8080/"
        },
        "id": "SgSoDUSPHu2G",
        "outputId": "cdee7867-e1d3-4a2d-ee34-59493fa9edff"
      },
      "outputs": [
        {
          "output_type": "stream",
          "name": "stdout",
          "text": [
            "Шоколадный батончик, 20.5 рублей\n",
            "Шоколадный батончик, добавка: орешки\n",
            "Шоколадный батончик, 12.5 рублей\n",
            "Обычный шоколадный батончик\n",
            "Шоколадный батончик, 25 рублей\n",
            "Шоколадный батончик, добавка: клубника\n"
          ]
        }
      ],
      "source": [
        "class Chocolate:\n",
        "  def __init__(self, cena: float, dobavka: str = ''):\n",
        "    if cena <= 0:\n",
        "      raise ValueError('Цена должна быть больше 0')\n",
        "    self.cena = cena\n",
        "    self.dobavka = dobavka\n",
        "\n",
        "  def show_my_chocolate(self):\n",
        "    if self.dobavka:\n",
        "      print(f'Шоколадный батончик, добавка: {self.dobavka}')\n",
        "    else:\n",
        "      print('Обычный шоколадный батончик')\n",
        "\n",
        "  def __str__(self):\n",
        "    return f'Шоколадный батончик, {self.cena} рублей'\n",
        "\n",
        "chocolate1 = Chocolate(20.5, 'орешки')\n",
        "chocolate2 = Chocolate(12.5)\n",
        "chocolate3 = Chocolate(25, 'клубника')\n",
        "\n",
        "print(chocolate1)\n",
        "chocolate1.show_my_chocolate()\n",
        "\n",
        "print(chocolate2)\n",
        "chocolate2.show_my_chocolate()\n",
        "\n",
        "print(chocolate3)\n",
        "chocolate3.show_my_chocolate()"
      ]
    }
  ]
}